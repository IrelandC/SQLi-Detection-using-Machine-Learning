{
  "nbformat": 4,
  "nbformat_minor": 0,
  "metadata": {
    "colab": {
      "name": "SQLI 2CNN 128.ipynb",
      "provenance": [],
      "collapsed_sections": [],
      "authorship_tag": "ABX9TyNYcK03Zs73xqcpmRfQyFF1",
      "include_colab_link": true
    },
    "kernelspec": {
      "name": "python3",
      "display_name": "Python 3"
    },
    "accelerator": "GPU"
  },
  "cells": [
    {
      "cell_type": "markdown",
      "metadata": {
        "id": "view-in-github",
        "colab_type": "text"
      },
      "source": [
        "<a href=\"https://colab.research.google.com/github/SaqlainHussainShah/SQLi-Detection-using-Machine-Learning/blob/master/SQLI_2CNN_128.ipynb\" target=\"_parent\"><img src=\"https://colab.research.google.com/assets/colab-badge.svg\" alt=\"Open In Colab\"/></a>"
      ]
    },
    {
      "cell_type": "code",
      "metadata": {
        "id": "Yvu6Z9_SKJbb",
        "colab_type": "code",
        "colab": {
          "base_uri": "https://localhost:8080/",
          "height": 121
        },
        "outputId": "5b634b49-c06d-48b3-cdb5-a3fc3e1558ab"
      },
      "source": [
        "import glob\n",
        "import time\n",
        "import pandas as pd\n",
        "from nltk import ngrams\n",
        "from nltk.tokenize import sent_tokenize\n",
        "import nltk\n",
        "nltk.download('punkt')\n",
        "nltk.download('stopwords')\n",
        "nltk.download('wordnet')\n",
        "from nltk.stem import PorterStemmer\n",
        "from nltk.stem import PorterStemmer\n",
        "from nltk.tokenize import sent_tokenize, word_tokenize\n",
        "from nltk.stem import WordNetLemmatizer\n",
        "from nltk.corpus import stopwords \n",
        "from nltk.tokenize import word_tokenize"
      ],
      "execution_count": 1,
      "outputs": [
        {
          "output_type": "stream",
          "text": [
            "[nltk_data] Downloading package punkt to /root/nltk_data...\n",
            "[nltk_data]   Unzipping tokenizers/punkt.zip.\n",
            "[nltk_data] Downloading package stopwords to /root/nltk_data...\n",
            "[nltk_data]   Unzipping corpora/stopwords.zip.\n",
            "[nltk_data] Downloading package wordnet to /root/nltk_data...\n",
            "[nltk_data]   Unzipping corpora/wordnet.zip.\n"
          ],
          "name": "stdout"
        }
      ]
    },
    {
      "cell_type": "code",
      "metadata": {
        "id": "2s3eCKnfLgVe",
        "colab_type": "code",
        "colab": {}
      },
      "source": [
        "from tensorflow import keras"
      ],
      "execution_count": 0,
      "outputs": []
    },
    {
      "cell_type": "code",
      "metadata": {
        "id": "VOsMvcOlLpMa",
        "colab_type": "code",
        "colab": {}
      },
      "source": [
        "import pandas as pd\n",
        "import os"
      ],
      "execution_count": 0,
      "outputs": []
    },
    {
      "cell_type": "code",
      "metadata": {
        "id": "V3AKk4UwLqhb",
        "colab_type": "code",
        "colab": {}
      },
      "source": [
        "df=pd.read_csv('./sqli.csv',encoding='utf-16')"
      ],
      "execution_count": 0,
      "outputs": []
    },
    {
      "cell_type": "code",
      "metadata": {
        "id": "84wOoSidL0N2",
        "colab_type": "code",
        "colab": {
          "base_uri": "https://localhost:8080/",
          "height": 206
        },
        "outputId": "c6cd9ead-fb75-4d46-eead-698fe44becc8"
      },
      "source": [
        "df.head()"
      ],
      "execution_count": 9,
      "outputs": [
        {
          "output_type": "execute_result",
          "data": {
            "text/html": [
              "<div>\n",
              "<style scoped>\n",
              "    .dataframe tbody tr th:only-of-type {\n",
              "        vertical-align: middle;\n",
              "    }\n",
              "\n",
              "    .dataframe tbody tr th {\n",
              "        vertical-align: top;\n",
              "    }\n",
              "\n",
              "    .dataframe thead th {\n",
              "        text-align: right;\n",
              "    }\n",
              "</style>\n",
              "<table border=\"1\" class=\"dataframe\">\n",
              "  <thead>\n",
              "    <tr style=\"text-align: right;\">\n",
              "      <th></th>\n",
              "      <th>Sentence</th>\n",
              "      <th>Label</th>\n",
              "    </tr>\n",
              "  </thead>\n",
              "  <tbody>\n",
              "    <tr>\n",
              "      <th>0</th>\n",
              "      <td>NaN</td>\n",
              "      <td>1</td>\n",
              "    </tr>\n",
              "    <tr>\n",
              "      <th>1</th>\n",
              "      <td>select * from users where id = '1' union sele...</td>\n",
              "      <td>1</td>\n",
              "    </tr>\n",
              "    <tr>\n",
              "      <th>2</th>\n",
              "      <td>select * from users where id = '1' union sele...</td>\n",
              "      <td>1</td>\n",
              "    </tr>\n",
              "    <tr>\n",
              "      <th>3</th>\n",
              "      <td>select * from users where id = 1 or \"%?\" or 1...</td>\n",
              "      <td>1</td>\n",
              "    </tr>\n",
              "    <tr>\n",
              "      <th>4</th>\n",
              "      <td>admin' or '1' = '1'--</td>\n",
              "      <td>1</td>\n",
              "    </tr>\n",
              "  </tbody>\n",
              "</table>\n",
              "</div>"
            ],
            "text/plain": [
              "                                            Sentence  Label\n",
              "0                                                NaN      1\n",
              "1   select * from users where id = '1' union sele...      1\n",
              "2   select * from users where id = '1' union sele...      1\n",
              "3   select * from users where id = 1 or \"%?\" or 1...      1\n",
              "4                              admin' or '1' = '1'--      1"
            ]
          },
          "metadata": {
            "tags": []
          },
          "execution_count": 9
        }
      ]
    },
    {
      "cell_type": "code",
      "metadata": {
        "id": "ClocFugSL02a",
        "colab_type": "code",
        "colab": {}
      },
      "source": [
        "df.dropna(axis=0, inplace=True)"
      ],
      "execution_count": 0,
      "outputs": []
    },
    {
      "cell_type": "code",
      "metadata": {
        "id": "x6TUikKUL2iH",
        "colab_type": "code",
        "colab": {
          "base_uri": "https://localhost:8080/",
          "height": 173
        },
        "outputId": "cf532018-c4fc-49c1-ac9f-6119c51892cf"
      },
      "source": [
        "df.info()"
      ],
      "execution_count": 11,
      "outputs": [
        {
          "output_type": "stream",
          "text": [
            "<class 'pandas.core.frame.DataFrame'>\n",
            "Int64Index: 33757 entries, 1 to 33760\n",
            "Data columns (total 2 columns):\n",
            " #   Column    Non-Null Count  Dtype \n",
            "---  ------    --------------  ----- \n",
            " 0   Sentence  33757 non-null  object\n",
            " 1   Label     33757 non-null  int64 \n",
            "dtypes: int64(1), object(1)\n",
            "memory usage: 791.2+ KB\n"
          ],
          "name": "stdout"
        }
      ]
    },
    {
      "cell_type": "code",
      "metadata": {
        "id": "lXNyQca-L5MR",
        "colab_type": "code",
        "colab": {}
      },
      "source": [
        "values = df.values"
      ],
      "execution_count": 0,
      "outputs": []
    },
    {
      "cell_type": "code",
      "metadata": {
        "id": "SIxYKGCqL66N",
        "colab_type": "code",
        "colab": {}
      },
      "source": [
        "\n",
        "\n",
        "# vectorization of data\n",
        "\n",
        "from sklearn.feature_extraction.text import CountVectorizer\n",
        "vectorizer = CountVectorizer( min_df=2, max_df=0.7, max_features=4096, stop_words=stopwords.words('english'))\n",
        "posts = vectorizer.fit_transform(df['Sentence'].values.astype('U')).toarray()\n",
        "\n"
      ],
      "execution_count": 0,
      "outputs": []
    },
    {
      "cell_type": "code",
      "metadata": {
        "id": "vtS3lfzeMZzC",
        "colab_type": "code",
        "colab": {
          "base_uri": "https://localhost:8080/",
          "height": 34
        },
        "outputId": "3d7bbc01-c409-40b3-8b1b-271ec14844c8"
      },
      "source": [
        "posts.shape"
      ],
      "execution_count": 14,
      "outputs": [
        {
          "output_type": "execute_result",
          "data": {
            "text/plain": [
              "(33757, 4096)"
            ]
          },
          "metadata": {
            "tags": []
          },
          "execution_count": 14
        }
      ]
    },
    {
      "cell_type": "code",
      "metadata": {
        "id": "pVgiUo5oMc-V",
        "colab_type": "code",
        "colab": {}
      },
      "source": [
        "posts.shape=(33757,64,64,1)"
      ],
      "execution_count": 0,
      "outputs": []
    },
    {
      "cell_type": "code",
      "metadata": {
        "id": "zi_iC1COMf0h",
        "colab_type": "code",
        "colab": {
          "base_uri": "https://localhost:8080/",
          "height": 34
        },
        "outputId": "266ce2cb-86b4-404d-c7b2-6bd735ef70bf"
      },
      "source": [
        "posts.shape"
      ],
      "execution_count": 16,
      "outputs": [
        {
          "output_type": "execute_result",
          "data": {
            "text/plain": [
              "(33757, 64, 64, 1)"
            ]
          },
          "metadata": {
            "tags": []
          },
          "execution_count": 16
        }
      ]
    },
    {
      "cell_type": "code",
      "metadata": {
        "id": "HIrCCrdoMhh6",
        "colab_type": "code",
        "colab": {}
      },
      "source": [
        "X=posts"
      ],
      "execution_count": 0,
      "outputs": []
    },
    {
      "cell_type": "code",
      "metadata": {
        "id": "haJWJ8YrMjEe",
        "colab_type": "code",
        "colab": {}
      },
      "source": [
        "y=df['Label']"
      ],
      "execution_count": 0,
      "outputs": []
    },
    {
      "cell_type": "code",
      "metadata": {
        "id": "xIg3PJ0WMlf5",
        "colab_type": "code",
        "colab": {}
      },
      "source": [
        "from sklearn.model_selection import train_test_split"
      ],
      "execution_count": 0,
      "outputs": []
    },
    {
      "cell_type": "code",
      "metadata": {
        "id": "cvit_7PoMmyk",
        "colab_type": "code",
        "colab": {}
      },
      "source": [
        "X_train, X_test, y_train, y_test = train_test_split(X, y, test_size=0.2, random_state=42)"
      ],
      "execution_count": 0,
      "outputs": []
    },
    {
      "cell_type": "code",
      "metadata": {
        "id": "CXIYK9i7MoKF",
        "colab_type": "code",
        "colab": {
          "base_uri": "https://localhost:8080/",
          "height": 34
        },
        "outputId": "885d036d-6ab6-4207-f41c-7e9d4df94466"
      },
      "source": [
        "\n",
        "\n",
        "import tensorflow as tf\n",
        "from keras.models import Sequential\n",
        "from keras import layers\n",
        "from keras.preprocessing.text import Tokenizer\n",
        "from keras.wrappers.scikit_learn import KerasClassifier\n",
        "\n"
      ],
      "execution_count": 21,
      "outputs": [
        {
          "output_type": "stream",
          "text": [
            "Using TensorFlow backend.\n"
          ],
          "name": "stderr"
        }
      ]
    },
    {
      "cell_type": "code",
      "metadata": {
        "id": "TgZs64uYMyiG",
        "colab_type": "code",
        "colab": {}
      },
      "source": [
        "\n",
        "\n",
        "model=tf.keras.models.Sequential([\n",
        "    \n",
        "    tf.keras.layers.Conv2D(64, (3,3), activation=tf.nn.relu, input_shape=(64,64,1)),\n",
        "    tf.keras.layers.MaxPooling2D(2,2),\n",
        "    tf.keras.layers.Conv2D(128, (3,3), activation=tf.nn.relu),\n",
        "    tf.keras.layers.MaxPooling2D(2,2),\n",
        "    \n",
        "    tf.keras.layers.Flatten(),\n",
        "    tf.keras.layers.Dense(128,activation='relu'),\n",
        "    tf.keras.layers.Dense(64,activation='relu'),\n",
        "    tf.keras.layers.Dense(1, activation='sigmoid')\n",
        "])\n",
        "\n"
      ],
      "execution_count": 0,
      "outputs": []
    },
    {
      "cell_type": "code",
      "metadata": {
        "id": "n2pxAE2BM98X",
        "colab_type": "code",
        "colab": {
          "base_uri": "https://localhost:8080/",
          "height": 434
        },
        "outputId": "77bc9c4d-07db-49a9-e4c1-76b6139d9e92"
      },
      "source": [
        "\n",
        "\n",
        "model.compile(loss='binary_crossentropy', \n",
        "              optimizer='adam', \n",
        "              metrics=['accuracy'])\n",
        "model.summary()\n",
        "\n"
      ],
      "execution_count": 81,
      "outputs": [
        {
          "output_type": "stream",
          "text": [
            "Model: \"sequential_5\"\n",
            "_________________________________________________________________\n",
            "Layer (type)                 Output Shape              Param #   \n",
            "=================================================================\n",
            "conv2d_8 (Conv2D)            (None, 62, 62, 64)        640       \n",
            "_________________________________________________________________\n",
            "max_pooling2d_8 (MaxPooling2 (None, 31, 31, 64)        0         \n",
            "_________________________________________________________________\n",
            "conv2d_9 (Conv2D)            (None, 29, 29, 128)       73856     \n",
            "_________________________________________________________________\n",
            "max_pooling2d_9 (MaxPooling2 (None, 14, 14, 128)       0         \n",
            "_________________________________________________________________\n",
            "flatten_5 (Flatten)          (None, 25088)             0         \n",
            "_________________________________________________________________\n",
            "dense_13 (Dense)             (None, 128)               3211392   \n",
            "_________________________________________________________________\n",
            "dense_14 (Dense)             (None, 64)                8256      \n",
            "_________________________________________________________________\n",
            "dense_15 (Dense)             (None, 1)                 65        \n",
            "=================================================================\n",
            "Total params: 3,294,209\n",
            "Trainable params: 3,294,209\n",
            "Non-trainable params: 0\n",
            "_________________________________________________________________\n"
          ],
          "name": "stdout"
        }
      ]
    },
    {
      "cell_type": "code",
      "metadata": {
        "id": "KElI-z5dNAEo",
        "colab_type": "code",
        "colab": {
          "base_uri": "https://localhost:8080/",
          "height": 384
        },
        "outputId": "83f6a722-8806-46f5-a9b9-0b960b87fd4c"
      },
      "source": [
        "classifier_nn = model.fit(X_train,y_train,\n",
        "                    epochs=10,\n",
        "                    verbose=True,\n",
        "                    validation_data=(X_test, y_test),\n",
        "                    batch_size=128)"
      ],
      "execution_count": 82,
      "outputs": [
        {
          "output_type": "stream",
          "text": [
            "Epoch 1/10\n",
            "211/211 [==============================] - 9s 43ms/step - loss: 0.1682 - accuracy: 0.9473 - val_loss: 0.1246 - val_accuracy: 0.9640\n",
            "Epoch 2/10\n",
            "211/211 [==============================] - 9s 42ms/step - loss: 0.1240 - accuracy: 0.9652 - val_loss: 0.1200 - val_accuracy: 0.9662\n",
            "Epoch 3/10\n",
            "211/211 [==============================] - 9s 42ms/step - loss: 0.1162 - accuracy: 0.9680 - val_loss: 0.1197 - val_accuracy: 0.9667\n",
            "Epoch 4/10\n",
            "211/211 [==============================] - 9s 42ms/step - loss: 0.1109 - accuracy: 0.9696 - val_loss: 0.1164 - val_accuracy: 0.9668\n",
            "Epoch 5/10\n",
            "211/211 [==============================] - 9s 42ms/step - loss: 0.1071 - accuracy: 0.9716 - val_loss: 0.1194 - val_accuracy: 0.9661\n",
            "Epoch 6/10\n",
            "211/211 [==============================] - 9s 42ms/step - loss: 0.1064 - accuracy: 0.9719 - val_loss: 0.1288 - val_accuracy: 0.9658\n",
            "Epoch 7/10\n",
            "211/211 [==============================] - 9s 42ms/step - loss: 0.1044 - accuracy: 0.9727 - val_loss: 0.1218 - val_accuracy: 0.9677\n",
            "Epoch 8/10\n",
            "211/211 [==============================] - 9s 42ms/step - loss: 0.1031 - accuracy: 0.9730 - val_loss: 0.1202 - val_accuracy: 0.9676\n",
            "Epoch 9/10\n",
            "211/211 [==============================] - 9s 42ms/step - loss: 0.1008 - accuracy: 0.9739 - val_loss: 0.1247 - val_accuracy: 0.9674\n",
            "Epoch 10/10\n",
            "211/211 [==============================] - 9s 42ms/step - loss: 0.1007 - accuracy: 0.9741 - val_loss: 0.1285 - val_accuracy: 0.9679\n"
          ],
          "name": "stdout"
        }
      ]
    },
    {
      "cell_type": "code",
      "metadata": {
        "id": "ppxWNXVfNE9w",
        "colab_type": "code",
        "colab": {}
      },
      "source": [
        "pred=model.predict(X_test)"
      ],
      "execution_count": 0,
      "outputs": []
    },
    {
      "cell_type": "code",
      "metadata": {
        "id": "xm4ByTXQNHl6",
        "colab_type": "code",
        "colab": {}
      },
      "source": [
        "for i in range(len(pred)):\n",
        "    if pred[i]>0.5:\n",
        "        pred[i]=1\n",
        "    elif pred[i]<=0.5:\n",
        "        pred[i]=0"
      ],
      "execution_count": 0,
      "outputs": []
    },
    {
      "cell_type": "code",
      "metadata": {
        "id": "GvVWHErZNJTm",
        "colab_type": "code",
        "colab": {}
      },
      "source": [
        "from sklearn.metrics import accuracy_score"
      ],
      "execution_count": 0,
      "outputs": []
    },
    {
      "cell_type": "code",
      "metadata": {
        "id": "S7keX5ODNKjl",
        "colab_type": "code",
        "colab": {
          "base_uri": "https://localhost:8080/",
          "height": 34
        },
        "outputId": "84182085-9983-44ab-b71e-639d46d02866"
      },
      "source": [
        "accuracy_score(y_test,pred)"
      ],
      "execution_count": 86,
      "outputs": [
        {
          "output_type": "execute_result",
          "data": {
            "text/plain": [
              "0.9678613744075829"
            ]
          },
          "metadata": {
            "tags": []
          },
          "execution_count": 86
        }
      ]
    },
    {
      "cell_type": "code",
      "metadata": {
        "id": "YnqSYAxwNLze",
        "colab_type": "code",
        "colab": {}
      },
      "source": [
        "def accuracy_function(tp,tn,fp,fn):\n",
        "    \n",
        "    accuracy = (tp+tn) / (tp+tn+fp+fn)\n",
        "    \n",
        "    return accuracy"
      ],
      "execution_count": 0,
      "outputs": []
    },
    {
      "cell_type": "code",
      "metadata": {
        "id": "EcjnwO7gNTO-",
        "colab_type": "code",
        "colab": {}
      },
      "source": [
        "def precision_function(tp,fp):\n",
        "    \n",
        "    precision = tp / (tp+fp)\n",
        "    \n",
        "    return precision"
      ],
      "execution_count": 0,
      "outputs": []
    },
    {
      "cell_type": "code",
      "metadata": {
        "id": "V_FECPywNW2a",
        "colab_type": "code",
        "colab": {}
      },
      "source": [
        "def recall_function(tp,fn):\n",
        "    \n",
        "    recall=tp / (tp+fn)\n",
        "    \n",
        "    return recall"
      ],
      "execution_count": 0,
      "outputs": []
    },
    {
      "cell_type": "code",
      "metadata": {
        "id": "ATulxheDNYpw",
        "colab_type": "code",
        "colab": {}
      },
      "source": [
        "\n",
        "def confusion_matrix(truth,predicted):\n",
        "    \n",
        "    true_positive = 0\n",
        "    true_negative = 0\n",
        "    false_positive = 0\n",
        "    false_negative = 0\n",
        "    \n",
        "    for true,pred in zip(truth,predicted):\n",
        "        \n",
        "        if true == 1.0:\n",
        "            if pred == 1.0:\n",
        "                true_positive += 1\n",
        "            elif pred != 1.0:\n",
        "                false_negative += 1\n",
        "\n",
        "        elif true == 0.0:\n",
        "            if pred == 0.0:\n",
        "                true_negative += 1\n",
        "            elif pred != 0.0:\n",
        "                false_positive += 1\n",
        "       \n",
        "    accuracy=accuracy_function(true_positive, true_negative, false_positive, false_negative)\n",
        "    precision=precision_function(true_positive, false_positive)\n",
        "    recall=recall_function(true_positive, false_negative)\n",
        "    \n",
        "    return (accuracy,\n",
        "            precision,\n",
        "           recall)\n",
        "\n"
      ],
      "execution_count": 0,
      "outputs": []
    },
    {
      "cell_type": "code",
      "metadata": {
        "id": "4Ka6pNKWNvbC",
        "colab_type": "code",
        "colab": {}
      },
      "source": [
        "accuracy,precision,recall=confusion_matrix(y_test,pred)"
      ],
      "execution_count": 0,
      "outputs": []
    },
    {
      "cell_type": "code",
      "metadata": {
        "id": "ggpG2TwYN0DC",
        "colab_type": "code",
        "colab": {
          "base_uri": "https://localhost:8080/",
          "height": 86
        },
        "outputId": "1d02ecfa-d138-4ca0-ac0f-0cb6b42cd00a"
      },
      "source": [
        "print(\" For CNN 2 layer 128 batch size \\n Accuracy : {0} \\n Precision : {1} \\n Recall : {2}\".format(accuracy, precision, recall))"
      ],
      "execution_count": 93,
      "outputs": [
        {
          "output_type": "stream",
          "text": [
            " For CNN 2 layer 128 batch size \n",
            " Accuracy : 0.9678613744075829 \n",
            " Precision : 0.9909652876842606 \n",
            " Recall : 0.9132340052585451\n"
          ],
          "name": "stdout"
        }
      ]
    },
    {
      "cell_type": "code",
      "metadata": {
        "id": "Uyz38lPVN3SB",
        "colab_type": "code",
        "colab": {}
      },
      "source": [
        ""
      ],
      "execution_count": 0,
      "outputs": []
    }
  ]
}