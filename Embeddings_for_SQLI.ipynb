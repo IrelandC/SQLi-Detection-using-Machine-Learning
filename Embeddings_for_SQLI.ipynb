{
  "nbformat": 4,
  "nbformat_minor": 0,
  "metadata": {
    "colab": {
      "name": "Embeddings for SQLI.ipynb",
      "provenance": [],
      "collapsed_sections": [],
      "authorship_tag": "ABX9TyP7LG37gYeDhTJ3afCd9h98",
      "include_colab_link": true
    },
    "kernelspec": {
      "name": "python3",
      "display_name": "Python 3"
    },
    "accelerator": "GPU"
  },
  "cells": [
    {
      "cell_type": "markdown",
      "metadata": {
        "id": "view-in-github",
        "colab_type": "text"
      },
      "source": [
        "<a href=\"https://colab.research.google.com/github/SaqlainHussainShah/SQLi-Detection-using-Machine-Learning/blob/master/Embeddings_for_SQLI.ipynb\" target=\"_parent\"><img src=\"https://colab.research.google.com/assets/colab-badge.svg\" alt=\"Open In Colab\"/></a>"
      ]
    },
    {
      "cell_type": "code",
      "metadata": {
        "id": "8QkCw3vjJ-_m",
        "colab_type": "code",
        "colab": {
          "base_uri": "https://localhost:8080/",
          "height": 121
        },
        "outputId": "5ef82717-985b-4981-bfc9-427b7e2c47f6"
      },
      "source": [
        "import glob\n",
        "import time\n",
        "import pandas as pd\n",
        "# from xml.dom import minidom\n",
        "from nltk import ngrams\n",
        "from nltk.tokenize import sent_tokenize\n",
        "import nltk\n",
        "nltk.download('punkt')\n",
        "nltk.download('stopwords')\n",
        "nltk.download('wordnet')\n",
        "from nltk.stem import PorterStemmer\n",
        "from nltk.stem import PorterStemmer\n",
        "from nltk.tokenize import sent_tokenize, word_tokenize\n",
        "from nltk.stem import WordNetLemmatizer\n",
        "from nltk.corpus import stopwords \n",
        "from nltk.tokenize import word_tokenize"
      ],
      "execution_count": 26,
      "outputs": [
        {
          "output_type": "stream",
          "text": [
            "[nltk_data] Downloading package punkt to /root/nltk_data...\n",
            "[nltk_data]   Package punkt is already up-to-date!\n",
            "[nltk_data] Downloading package stopwords to /root/nltk_data...\n",
            "[nltk_data]   Package stopwords is already up-to-date!\n",
            "[nltk_data] Downloading package wordnet to /root/nltk_data...\n",
            "[nltk_data]   Package wordnet is already up-to-date!\n"
          ],
          "name": "stdout"
        }
      ]
    },
    {
      "cell_type": "code",
      "metadata": {
        "id": "QuREbg6YKgh0",
        "colab_type": "code",
        "colab": {}
      },
      "source": [
        "from tensorflow import keras"
      ],
      "execution_count": 0,
      "outputs": []
    },
    {
      "cell_type": "code",
      "metadata": {
        "id": "jJazcb20L7pP",
        "colab_type": "code",
        "colab": {}
      },
      "source": [
        "import pandas as pd\n",
        "import os\n"
      ],
      "execution_count": 0,
      "outputs": []
    },
    {
      "cell_type": "code",
      "metadata": {
        "id": "kVhydHowL8y5",
        "colab_type": "code",
        "colab": {}
      },
      "source": [
        "df=pd.read_csv('./sqli.csv',encoding='utf-16')"
      ],
      "execution_count": 0,
      "outputs": []
    },
    {
      "cell_type": "code",
      "metadata": {
        "id": "-GK_QrvlMkzj",
        "colab_type": "code",
        "colab": {
          "base_uri": "https://localhost:8080/",
          "height": 206
        },
        "outputId": "a51f1536-cdb7-4b6d-8898-d89319882b22"
      },
      "source": [
        "df.head()"
      ],
      "execution_count": 30,
      "outputs": [
        {
          "output_type": "execute_result",
          "data": {
            "text/html": [
              "<div>\n",
              "<style scoped>\n",
              "    .dataframe tbody tr th:only-of-type {\n",
              "        vertical-align: middle;\n",
              "    }\n",
              "\n",
              "    .dataframe tbody tr th {\n",
              "        vertical-align: top;\n",
              "    }\n",
              "\n",
              "    .dataframe thead th {\n",
              "        text-align: right;\n",
              "    }\n",
              "</style>\n",
              "<table border=\"1\" class=\"dataframe\">\n",
              "  <thead>\n",
              "    <tr style=\"text-align: right;\">\n",
              "      <th></th>\n",
              "      <th>Sentence</th>\n",
              "      <th>Label</th>\n",
              "    </tr>\n",
              "  </thead>\n",
              "  <tbody>\n",
              "    <tr>\n",
              "      <th>0</th>\n",
              "      <td>NaN</td>\n",
              "      <td>1</td>\n",
              "    </tr>\n",
              "    <tr>\n",
              "      <th>1</th>\n",
              "      <td>\" or pg_sleep ( __TIME__ ) --</td>\n",
              "      <td>1</td>\n",
              "    </tr>\n",
              "    <tr>\n",
              "      <th>2</th>\n",
              "      <td>create user name identified by pass123 tempora...</td>\n",
              "      <td>1</td>\n",
              "    </tr>\n",
              "    <tr>\n",
              "      <th>3</th>\n",
              "      <td>%29</td>\n",
              "      <td>1</td>\n",
              "    </tr>\n",
              "    <tr>\n",
              "      <th>4</th>\n",
              "      <td>' AND 1 = utl_inaddr.get_host_address  (  (  S...</td>\n",
              "      <td>1</td>\n",
              "    </tr>\n",
              "  </tbody>\n",
              "</table>\n",
              "</div>"
            ],
            "text/plain": [
              "                                            Sentence  Label\n",
              "0                                                NaN      1\n",
              "1                      \" or pg_sleep ( __TIME__ ) --      1\n",
              "2  create user name identified by pass123 tempora...      1\n",
              "3                                                %29      1\n",
              "4  ' AND 1 = utl_inaddr.get_host_address  (  (  S...      1"
            ]
          },
          "metadata": {
            "tags": []
          },
          "execution_count": 30
        }
      ]
    },
    {
      "cell_type": "code",
      "metadata": {
        "id": "d9_Wv37CMmKJ",
        "colab_type": "code",
        "colab": {}
      },
      "source": [
        "df.dropna(inplace=True)"
      ],
      "execution_count": 0,
      "outputs": []
    },
    {
      "cell_type": "code",
      "metadata": {
        "id": "2OM8or0SMr1q",
        "colab_type": "code",
        "colab": {}
      },
      "source": [
        "values = df.values"
      ],
      "execution_count": 0,
      "outputs": []
    },
    {
      "cell_type": "code",
      "metadata": {
        "id": "okoCUGfHPZ2r",
        "colab_type": "code",
        "colab": {}
      },
      "source": [
        "from tensorflow.keras.preprocessing.text import Tokenizer"
      ],
      "execution_count": 0,
      "outputs": []
    },
    {
      "cell_type": "code",
      "metadata": {
        "id": "T6_LSp23Pc1H",
        "colab_type": "code",
        "colab": {}
      },
      "source": [
        "sentences = []\n",
        "for key , value in enumerate(values[:][:][:][:][:]):\n",
        "    sentences.append((value[0]))"
      ],
      "execution_count": 0,
      "outputs": []
    },
    {
      "cell_type": "code",
      "metadata": {
        "id": "IfPrAdQMPd0E",
        "colab_type": "code",
        "colab": {}
      },
      "source": [
        "labels = []\n",
        "for key , value in enumerate(values[:][:][:][:][:]):\n",
        "    labels.append((value[1]))"
      ],
      "execution_count": 0,
      "outputs": []
    },
    {
      "cell_type": "code",
      "metadata": {
        "id": "fvenWaVgPevC",
        "colab_type": "code",
        "colab": {
          "base_uri": "https://localhost:8080/",
          "height": 211
        },
        "outputId": "a29d7669-7c62-4f17-acc9-ede34a9e25ff"
      },
      "source": [
        "sentences[:10]"
      ],
      "execution_count": 36,
      "outputs": [
        {
          "output_type": "execute_result",
          "data": {
            "text/plain": [
              "['\" or pg_sleep ( __TIME__ ) --',\n",
              " 'create user name identified by pass123 temporary tablespace temp default tablespace users; ',\n",
              " '%29',\n",
              " \"' AND 1 = utl_inaddr.get_host_address  (  (  SELECT DISTINCT ( table_name )  FROM  ( SELECT DISTINCT ( table_name ) , ROWNUM AS LIMIT FROM sys.all_tables )  WHERE LIMIT = 5  )  )   AND 'i' = 'i\",\n",
              " \" select * from users where id = '1' or @ @1 = 1 union select 1,version (  )  -- 1'\",\n",
              " ' select * from users where id = 1 or 1#\" (  union select 1,version (  )  -- 1',\n",
              " \"' select name from syscolumns where id  =   ( select id from sysobjects where name  =  tablename' ) --\",\n",
              " ' select * from users where id = 1 +$+ or 1 = 1 -- 1',\n",
              " '1; ( load_file ( char ( 47,101,116,99,47,112,97,115,115,119,100  )  )   ) ,1,1,1;',\n",
              " \" select * from users where id = '1' or ||/1 = 1 union select 1,version (  )  -- 1'\"]"
            ]
          },
          "metadata": {
            "tags": []
          },
          "execution_count": 36
        }
      ]
    },
    {
      "cell_type": "code",
      "metadata": {
        "id": "DPiF1eYsPgQZ",
        "colab_type": "code",
        "colab": {}
      },
      "source": [
        "oov_tok = \"<OOV>\"\n",
        "\n",
        "\n",
        "from tensorflow.keras.preprocessing.text import Tokenizer\n",
        "from tensorflow.keras.preprocessing.sequence import pad_sequences\n",
        "\n",
        "tokenizer = Tokenizer(oov_token=oov_tok, lower=False,split=' ')\n",
        "\n",
        "# tokenizer = Tokenizer()\n",
        "tokenizer.fit_on_texts(sentences)"
      ],
      "execution_count": 0,
      "outputs": []
    },
    {
      "cell_type": "code",
      "metadata": {
        "id": "GlsQfobcPiMs",
        "colab_type": "code",
        "colab": {}
      },
      "source": [
        "total_words = len(tokenizer.word_index) + 1"
      ],
      "execution_count": 0,
      "outputs": []
    },
    {
      "cell_type": "code",
      "metadata": {
        "id": "zPQ5Pp8gPje7",
        "colab_type": "code",
        "colab": {
          "base_uri": "https://localhost:8080/",
          "height": 34
        },
        "outputId": "eb1373e1-08fb-4a50-9427-5447b6dc19fb"
      },
      "source": [
        "total_words"
      ],
      "execution_count": 39,
      "outputs": [
        {
          "output_type": "execute_result",
          "data": {
            "text/plain": [
              "43941"
            ]
          },
          "metadata": {
            "tags": []
          },
          "execution_count": 39
        }
      ]
    },
    {
      "cell_type": "code",
      "metadata": {
        "id": "4ocVQNbsPke6",
        "colab_type": "code",
        "colab": {}
      },
      "source": [
        "import numpy as np"
      ],
      "execution_count": 0,
      "outputs": []
    },
    {
      "cell_type": "code",
      "metadata": {
        "id": "udWtlwFOPlma",
        "colab_type": "code",
        "colab": {}
      },
      "source": [
        "input_sequences = []\n",
        "for line in sentences:\n",
        "    token_list = tokenizer.texts_to_sequences([line])[0]\n",
        "    for i in range(1, len(token_list)):\n",
        "        n_gram_sequence = token_list[:i+1]\n",
        "    input_sequences.append(n_gram_sequence)"
      ],
      "execution_count": 0,
      "outputs": []
    },
    {
      "cell_type": "code",
      "metadata": {
        "id": "7Ub3NauDPml4",
        "colab_type": "code",
        "colab": {
          "base_uri": "https://localhost:8080/",
          "height": 34
        },
        "outputId": "fdb8692f-cc7f-4c3d-d3e2-edb6d9a4ac82"
      },
      "source": [
        "len(sentences)"
      ],
      "execution_count": 42,
      "outputs": [
        {
          "output_type": "execute_result",
          "data": {
            "text/plain": [
              "33757"
            ]
          },
          "metadata": {
            "tags": []
          },
          "execution_count": 42
        }
      ]
    },
    {
      "cell_type": "code",
      "metadata": {
        "id": "TGaUOv9kPntQ",
        "colab_type": "code",
        "colab": {
          "base_uri": "https://localhost:8080/",
          "height": 34
        },
        "outputId": "4a7b33dc-da73-42cb-b0c6-0fc270d23a60"
      },
      "source": [
        "len(input_sequences)"
      ],
      "execution_count": 43,
      "outputs": [
        {
          "output_type": "execute_result",
          "data": {
            "text/plain": [
              "33757"
            ]
          },
          "metadata": {
            "tags": []
          },
          "execution_count": 43
        }
      ]
    },
    {
      "cell_type": "code",
      "metadata": {
        "id": "zUaT9vBtPoou",
        "colab_type": "code",
        "colab": {}
      },
      "source": [
        "from tensorflow.keras.preprocessing.sequence import pad_sequences"
      ],
      "execution_count": 0,
      "outputs": []
    },
    {
      "cell_type": "code",
      "metadata": {
        "id": "GTZkl7HDPpvB",
        "colab_type": "code",
        "colab": {}
      },
      "source": [
        "max_sequence_len = max([len(x) for x in input_sequences])\n",
        "input_sequences = np.array(pad_sequences(input_sequences, maxlen=max_sequence_len, padding='pre'))"
      ],
      "execution_count": 0,
      "outputs": []
    },
    {
      "cell_type": "code",
      "metadata": {
        "id": "8ZUwpYdYPqiF",
        "colab_type": "code",
        "colab": {}
      },
      "source": [
        "from tensorflow.keras.preprocessing.sequence import pad_sequences\n",
        "from tensorflow.keras.layers import Embedding, LSTM, Dense, Dropout, Bidirectional\n",
        "from tensorflow.keras.preprocessing.text import Tokenizer\n",
        "from tensorflow.keras.models import Sequential\n",
        "from tensorflow.keras.optimizers import Adam\n",
        "from tensorflow.keras import regularizers"
      ],
      "execution_count": 0,
      "outputs": []
    },
    {
      "cell_type": "code",
      "metadata": {
        "id": "ju9XqsMqPrY9",
        "colab_type": "code",
        "colab": {
          "base_uri": "https://localhost:8080/",
          "height": 347
        },
        "outputId": "696a7c78-c69b-4c43-f2d9-974cca740b8c"
      },
      "source": [
        "model = Sequential()\n",
        "model.add(Embedding(total_words, 100, input_length=max_sequence_len)) # Your Embedding Layer)\n",
        "model.add(Bidirectional(LSTM(150, return_sequences=True)))# An LSTM Layer)\n",
        "# model.add(Dropout(0.2)) # A dropout layer)\n",
        "model.add(LSTM(100))# Another LSTM Layer)\n",
        "model.add(Dense(512, activation='relu', kernel_regularizer=regularizers.l2(0.01)))# A Dense Layer including regularizers)\n",
        "model.add(Dense(1,activation='sigmoid'))# A Dense Layer)\n",
        "# Pick an optimizer\n",
        "model.compile(loss='binary_crossentropy', optimizer='adam', metrics=['accuracy'])# Pick a loss function and an optimizer)\n",
        "print(model.summary())"
      ],
      "execution_count": 47,
      "outputs": [
        {
          "output_type": "stream",
          "text": [
            "Model: \"sequential_1\"\n",
            "_________________________________________________________________\n",
            "Layer (type)                 Output Shape              Param #   \n",
            "=================================================================\n",
            "embedding_1 (Embedding)      (None, 544, 100)          4394100   \n",
            "_________________________________________________________________\n",
            "bidirectional_1 (Bidirection (None, 544, 300)          301200    \n",
            "_________________________________________________________________\n",
            "lstm_3 (LSTM)                (None, 100)               160400    \n",
            "_________________________________________________________________\n",
            "dense_2 (Dense)              (None, 512)               51712     \n",
            "_________________________________________________________________\n",
            "dense_3 (Dense)              (None, 1)                 513       \n",
            "=================================================================\n",
            "Total params: 4,907,925\n",
            "Trainable params: 4,907,925\n",
            "Non-trainable params: 0\n",
            "_________________________________________________________________\n",
            "None\n"
          ],
          "name": "stdout"
        }
      ]
    },
    {
      "cell_type": "code",
      "metadata": {
        "id": "vkKKJP1UPxen",
        "colab_type": "code",
        "colab": {}
      },
      "source": [
        "input_sequences = np.array(input_sequences,dtype='float64')\n",
        "labels = np.array(labels, dtype ='float64')"
      ],
      "execution_count": 0,
      "outputs": []
    },
    {
      "cell_type": "code",
      "metadata": {
        "id": "J_zR-4EaP5zL",
        "colab_type": "code",
        "colab": {
          "base_uri": "https://localhost:8080/",
          "height": 364
        },
        "outputId": "42fef2d3-3719-4db9-eb66-9cb3a2043ae0"
      },
      "source": [
        "history = model.fit(input_sequences, labels, epochs=10, verbose=1, batch_size=64)"
      ],
      "execution_count": 49,
      "outputs": [
        {
          "output_type": "stream",
          "text": [
            "Epoch 1/10\n",
            "528/528 [==============================] - 82s 155ms/step - loss: 0.2324 - accuracy: 0.9643\n",
            "Epoch 2/10\n",
            "528/528 [==============================] - 82s 155ms/step - loss: 0.0197 - accuracy: 0.9983\n",
            "Epoch 3/10\n",
            "528/528 [==============================] - 82s 155ms/step - loss: 0.0095 - accuracy: 0.9994\n",
            "Epoch 4/10\n",
            "528/528 [==============================] - 82s 155ms/step - loss: 0.0077 - accuracy: 0.9995\n",
            "Epoch 5/10\n",
            "528/528 [==============================] - 81s 154ms/step - loss: 0.0060 - accuracy: 0.9996\n",
            "Epoch 6/10\n",
            "528/528 [==============================] - 82s 154ms/step - loss: 0.0053 - accuracy: 0.9996\n",
            "Epoch 7/10\n",
            "528/528 [==============================] - 81s 154ms/step - loss: 0.0051 - accuracy: 0.9997\n",
            "Epoch 8/10\n",
            "528/528 [==============================] - 81s 154ms/step - loss: 0.0045 - accuracy: 0.9997\n",
            "Epoch 9/10\n",
            "528/528 [==============================] - 81s 154ms/step - loss: 0.0049 - accuracy: 0.9996\n",
            "Epoch 10/10\n",
            "528/528 [==============================] - 81s 154ms/step - loss: 0.0396 - accuracy: 0.9971\n"
          ],
          "name": "stdout"
        }
      ]
    },
    {
      "cell_type": "code",
      "metadata": {
        "id": "mLw4EcORP70F",
        "colab_type": "code",
        "colab": {}
      },
      "source": [
        "from keras.models import load_model\n",
        "import pickle\n",
        "\n",
        "model.save('my_model_embedding.h5')"
      ],
      "execution_count": 0,
      "outputs": []
    },
    {
      "cell_type": "code",
      "metadata": {
        "id": "MEeqxtnTTTh6",
        "colab_type": "code",
        "colab": {}
      },
      "source": [
        "\n",
        "\n",
        "mymodel = model\n",
        "\n",
        "\n",
        "\n",
        "\n",
        "def clean_data(input_val):\n",
        "\n",
        "    input_val=input_val.replace('\\n', '')\n",
        "    input_val=input_val.replace('%20', ' ')\n",
        "    input_val=input_val.replace('=', ' = ')\n",
        "    input_val=input_val.replace('((', ' (( ')\n",
        "    input_val=input_val.replace('))', ' )) ')\n",
        "    input_val=input_val.replace('(', ' ( ')\n",
        "    input_val=input_val.replace(')', ' ) ')\n",
        "    input_val=input_val.replace('1 ', 'numeric')\n",
        "    input_val=input_val.replace(' 1', 'numeric')\n",
        "    input_val=input_val.replace(\"'1 \", \"'numeric \")\n",
        "    input_val=input_val.replace(\" 1'\", \" numeric'\")\n",
        "    input_val=input_val.replace('1,', 'numeric,')\n",
        "    input_val=input_val.replace(\" 2 \", \" numeric \")\n",
        "    input_val=input_val.replace(' 3 ', ' numeric ')\n",
        "    input_val=input_val.replace(' 3--', ' numeric--')\n",
        "    input_val=input_val.replace(\" 4 \", ' numeric ')\n",
        "    input_val=input_val.replace(\" 5 \", ' numeric ')\n",
        "    input_val=input_val.replace(' 6 ', ' numeric ')\n",
        "    input_val=input_val.replace(\" 7 \", ' numeric ')\n",
        "    input_val=input_val.replace(\" 8 \", ' numeric ')\n",
        "    input_val=input_val.replace('1234', ' numeric ')\n",
        "    input_val=input_val.replace(\"22\", ' numeric ')\n",
        "    input_val=input_val.replace(\" 8 \", ' numeric ')\n",
        "    input_val=input_val.replace(\" 200 \", ' numeric ')\n",
        "    input_val=input_val.replace(\"23 \", ' numeric ')\n",
        "    input_val=input_val.replace('\"1', '\"numeric')\n",
        "    input_val=input_val.replace('1\"', '\"numeric')\n",
        "    input_val=input_val.replace(\"7659\", 'numeric')\n",
        "    input_val=input_val.replace(\" 37 \", ' numeric ')\n",
        "    input_val=input_val.replace(\" 45 \", ' numeric ')\n",
        "\n",
        "    return input_val\n",
        "\n",
        "\n",
        "\n",
        "\n",
        "\n",
        "\n",
        "\n",
        "\n",
        "def predict_sqli_attack():\n",
        "    \n",
        "    repeat=True\n",
        "    \n",
        "    beautify=''\n",
        "    for i in range(20):\n",
        "        beautify+= \"=\"\n",
        "\n",
        "    print(beautify) \n",
        "    input_val=input(\"Give me some data to work on : \")\n",
        "    print(beautify)\n",
        "\n",
        "    \n",
        "    if input_val== '0':\n",
        "        repeat=False\n",
        "    \n",
        "    \n",
        "\n",
        "    input_val=clean_data(input_val)\n",
        "    input_val=[input_val]\n",
        "\n",
        "\n",
        "\n",
        "    input_val=myvectorizer.transform(input_val).toarray()\n",
        "    \n",
        "    input_val.shape=(1,64,64,1)\n",
        "\n",
        "    result=mymodel.predict(input_val)\n",
        "\n",
        "\n",
        "    print(beautify)\n",
        "    \n",
        "    \n",
        "    if repeat == True:\n",
        "        \n",
        "        if result>0.5:\n",
        "            print(\"ALERT :::: This can be SQL injection\")\n",
        "\n",
        "\n",
        "        elif result<=0.5:\n",
        "            print(\"It seems to be safe\")\n",
        "            \n",
        "        print(beautify)\n",
        "            \n",
        "        predict_sqli_attack()\n",
        "            \n",
        "    elif repeat == False:\n",
        "        print( \" Good Bye \")"
      ],
      "execution_count": 0,
      "outputs": []
    },
    {
      "cell_type": "code",
      "metadata": {
        "id": "F6FDNc6JTjJk",
        "colab_type": "code",
        "colab": {}
      },
      "source": [
        "predict_sqli_attack()"
      ],
      "execution_count": 0,
      "outputs": []
    }
  ]
}