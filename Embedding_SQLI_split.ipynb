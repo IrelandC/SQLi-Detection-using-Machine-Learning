{
  "nbformat": 4,
  "nbformat_minor": 0,
  "metadata": {
    "colab": {
      "name": "Embedding SQLI split.ipynb",
      "provenance": [],
      "collapsed_sections": [],
      "authorship_tag": "ABX9TyPsJ/Nx54cHoF0VsuktL2pT",
      "include_colab_link": true
    },
    "kernelspec": {
      "name": "python3",
      "display_name": "Python 3"
    },
    "accelerator": "GPU"
  },
  "cells": [
    {
      "cell_type": "markdown",
      "metadata": {
        "id": "view-in-github",
        "colab_type": "text"
      },
      "source": [
        "<a href=\"https://colab.research.google.com/github/SaqlainHussainShah/SQLi-Detection-using-Machine-Learning/blob/master/Embedding_SQLI_split.ipynb\" target=\"_parent\"><img src=\"https://colab.research.google.com/assets/colab-badge.svg\" alt=\"Open In Colab\"/></a>"
      ]
    },
    {
      "cell_type": "code",
      "metadata": {
        "id": "uhZOaMwmh1-z",
        "colab_type": "code",
        "colab": {
          "base_uri": "https://localhost:8080/",
          "height": 121
        },
        "outputId": "bfb57a4a-fc5d-45cc-faa0-e741826dcc56"
      },
      "source": [
        "import glob\n",
        "import time\n",
        "import pandas as pd\n",
        "from nltk import ngrams\n",
        "from nltk.tokenize import sent_tokenize\n",
        "import nltk\n",
        "nltk.download('punkt')\n",
        "nltk.download('stopwords')\n",
        "nltk.download('wordnet')\n",
        "from nltk.stem import PorterStemmer\n",
        "from nltk.stem import PorterStemmer\n",
        "from nltk.tokenize import sent_tokenize, word_tokenize\n",
        "from nltk.stem import WordNetLemmatizer\n",
        "from nltk.corpus import stopwords \n",
        "from nltk.tokenize import word_tokenize"
      ],
      "execution_count": 1,
      "outputs": [
        {
          "output_type": "stream",
          "text": [
            "[nltk_data] Downloading package punkt to /root/nltk_data...\n",
            "[nltk_data]   Unzipping tokenizers/punkt.zip.\n",
            "[nltk_data] Downloading package stopwords to /root/nltk_data...\n",
            "[nltk_data]   Unzipping corpora/stopwords.zip.\n",
            "[nltk_data] Downloading package wordnet to /root/nltk_data...\n",
            "[nltk_data]   Unzipping corpora/wordnet.zip.\n"
          ],
          "name": "stdout"
        }
      ]
    },
    {
      "cell_type": "code",
      "metadata": {
        "id": "P1kkd-QqiBH6",
        "colab_type": "code",
        "colab": {}
      },
      "source": [
        "from tensorflow import keras"
      ],
      "execution_count": 0,
      "outputs": []
    },
    {
      "cell_type": "code",
      "metadata": {
        "id": "BTduSvv4iCob",
        "colab_type": "code",
        "colab": {}
      },
      "source": [
        "import pandas as pd\n",
        "import os"
      ],
      "execution_count": 0,
      "outputs": []
    },
    {
      "cell_type": "code",
      "metadata": {
        "id": "hppN31J9iDxT",
        "colab_type": "code",
        "colab": {}
      },
      "source": [
        "df=pd.read_csv('./sqli.csv',encoding='utf-16')"
      ],
      "execution_count": 0,
      "outputs": []
    },
    {
      "cell_type": "code",
      "metadata": {
        "id": "IykAbQxjiH3z",
        "colab_type": "code",
        "colab": {
          "base_uri": "https://localhost:8080/",
          "height": 206
        },
        "outputId": "f58541c0-89b7-473d-a6a8-221e88c3ede0"
      },
      "source": [
        "df.head()"
      ],
      "execution_count": 6,
      "outputs": [
        {
          "output_type": "execute_result",
          "data": {
            "text/html": [
              "<div>\n",
              "<style scoped>\n",
              "    .dataframe tbody tr th:only-of-type {\n",
              "        vertical-align: middle;\n",
              "    }\n",
              "\n",
              "    .dataframe tbody tr th {\n",
              "        vertical-align: top;\n",
              "    }\n",
              "\n",
              "    .dataframe thead th {\n",
              "        text-align: right;\n",
              "    }\n",
              "</style>\n",
              "<table border=\"1\" class=\"dataframe\">\n",
              "  <thead>\n",
              "    <tr style=\"text-align: right;\">\n",
              "      <th></th>\n",
              "      <th>Sentence</th>\n",
              "      <th>Label</th>\n",
              "    </tr>\n",
              "  </thead>\n",
              "  <tbody>\n",
              "    <tr>\n",
              "      <th>0</th>\n",
              "      <td>NaN</td>\n",
              "      <td>1</td>\n",
              "    </tr>\n",
              "    <tr>\n",
              "      <th>1</th>\n",
              "      <td>select * from users where id = '1' union sele...</td>\n",
              "      <td>1</td>\n",
              "    </tr>\n",
              "    <tr>\n",
              "      <th>2</th>\n",
              "      <td>select * from users where id = '1' union sele...</td>\n",
              "      <td>1</td>\n",
              "    </tr>\n",
              "    <tr>\n",
              "      <th>3</th>\n",
              "      <td>select * from users where id = 1 or \"%?\" or 1...</td>\n",
              "      <td>1</td>\n",
              "    </tr>\n",
              "    <tr>\n",
              "      <th>4</th>\n",
              "      <td>admin' or '1' = '1'--</td>\n",
              "      <td>1</td>\n",
              "    </tr>\n",
              "  </tbody>\n",
              "</table>\n",
              "</div>"
            ],
            "text/plain": [
              "                                            Sentence  Label\n",
              "0                                                NaN      1\n",
              "1   select * from users where id = '1' union sele...      1\n",
              "2   select * from users where id = '1' union sele...      1\n",
              "3   select * from users where id = 1 or \"%?\" or 1...      1\n",
              "4                              admin' or '1' = '1'--      1"
            ]
          },
          "metadata": {
            "tags": []
          },
          "execution_count": 6
        }
      ]
    },
    {
      "cell_type": "code",
      "metadata": {
        "id": "6HfRXHyViNtp",
        "colab_type": "code",
        "colab": {}
      },
      "source": [
        "df.dropna(axis=0, inplace=True)"
      ],
      "execution_count": 0,
      "outputs": []
    },
    {
      "cell_type": "code",
      "metadata": {
        "id": "8g08fNbEiQfZ",
        "colab_type": "code",
        "colab": {}
      },
      "source": [
        "values = df.values"
      ],
      "execution_count": 0,
      "outputs": []
    },
    {
      "cell_type": "code",
      "metadata": {
        "id": "gm4F56YoiSJG",
        "colab_type": "code",
        "colab": {}
      },
      "source": [
        "from tensorflow.keras.preprocessing.text import Tokenizer"
      ],
      "execution_count": 0,
      "outputs": []
    },
    {
      "cell_type": "code",
      "metadata": {
        "id": "BZQnFriyiU_l",
        "colab_type": "code",
        "colab": {}
      },
      "source": [
        "sentences = []\n",
        "for key , value in enumerate(values[:][:][:][:][:]):\n",
        "    sentences.append((value[0]))"
      ],
      "execution_count": 0,
      "outputs": []
    },
    {
      "cell_type": "code",
      "metadata": {
        "id": "2sd0nuZWiWNU",
        "colab_type": "code",
        "colab": {}
      },
      "source": [
        "labels = []\n",
        "for key , value in enumerate(values[:][:][:][:][:]):\n",
        "    labels.append((value[1]))"
      ],
      "execution_count": 0,
      "outputs": []
    },
    {
      "cell_type": "code",
      "metadata": {
        "id": "GMywwIPkiZHx",
        "colab_type": "code",
        "colab": {}
      },
      "source": [
        "oov_tok = \"<OOV>\"\n",
        "\n",
        "\n",
        "from tensorflow.keras.preprocessing.text import Tokenizer\n",
        "from tensorflow.keras.preprocessing.sequence import pad_sequences\n",
        "\n",
        "tokenizer = Tokenizer(oov_token=oov_tok, lower=False,split=' ')\n",
        "\n",
        "# tokenizer = Tokenizer()\n",
        "tokenizer.fit_on_texts(sentences)"
      ],
      "execution_count": 0,
      "outputs": []
    },
    {
      "cell_type": "code",
      "metadata": {
        "id": "cLk4RONuiaIj",
        "colab_type": "code",
        "colab": {}
      },
      "source": [
        "total_words = len(tokenizer.word_index) + 1"
      ],
      "execution_count": 0,
      "outputs": []
    },
    {
      "cell_type": "code",
      "metadata": {
        "id": "Vaq8kohuibWC",
        "colab_type": "code",
        "colab": {}
      },
      "source": [
        "import numpy as np"
      ],
      "execution_count": 0,
      "outputs": []
    },
    {
      "cell_type": "code",
      "metadata": {
        "id": "h75Vx5FAice1",
        "colab_type": "code",
        "colab": {}
      },
      "source": [
        "input_sequences = []\n",
        "for line in sentences:\n",
        "    token_list = tokenizer.texts_to_sequences([line])[0]\n",
        "    for i in range(1, len(token_list)):\n",
        "        n_gram_sequence = token_list[:i+1]\n",
        "    input_sequences.append(n_gram_sequence)"
      ],
      "execution_count": 0,
      "outputs": []
    },
    {
      "cell_type": "code",
      "metadata": {
        "id": "45AXc1mhidiQ",
        "colab_type": "code",
        "colab": {}
      },
      "source": [
        "from tensorflow.keras.preprocessing.sequence import pad_sequences"
      ],
      "execution_count": 0,
      "outputs": []
    },
    {
      "cell_type": "code",
      "metadata": {
        "id": "Dp4wkSviiewg",
        "colab_type": "code",
        "colab": {}
      },
      "source": [
        "max_sequence_len = max([len(x) for x in input_sequences])\n",
        "input_sequences = np.array(pad_sequences(input_sequences, maxlen=max_sequence_len, padding='pre'))\n"
      ],
      "execution_count": 0,
      "outputs": []
    },
    {
      "cell_type": "code",
      "metadata": {
        "id": "_DyPQm8rif_-",
        "colab_type": "code",
        "colab": {}
      },
      "source": [
        "\n",
        "\n",
        "from tensorflow.keras.preprocessing.sequence import pad_sequences\n",
        "from tensorflow.keras.layers import Embedding, LSTM, Dense, Dropout, Bidirectional\n",
        "from tensorflow.keras.preprocessing.text import Tokenizer\n",
        "from tensorflow.keras.models import Sequential\n",
        "from tensorflow.keras.optimizers import Adam\n",
        "from tensorflow.keras import regularizers\n",
        "\n"
      ],
      "execution_count": 0,
      "outputs": []
    },
    {
      "cell_type": "code",
      "metadata": {
        "id": "qPtyuZ5hihJs",
        "colab_type": "code",
        "colab": {
          "base_uri": "https://localhost:8080/",
          "height": 347
        },
        "outputId": "4e6441ca-eef4-4753-80a4-aec862e014d2"
      },
      "source": [
        "model = Sequential()\n",
        "model.add(Embedding(total_words, 100, input_length=max_sequence_len)) # Your Embedding Layer)\n",
        "model.add(Bidirectional(LSTM(150, return_sequences=True)))# An LSTM Layer)\n",
        "# model.add(Dropout(0.2)) # A dropout layer)\n",
        "model.add(LSTM(100))# Another LSTM Layer)\n",
        "model.add(Dense(512, activation='relu', kernel_regularizer=regularizers.l2(0.01)))# A Dense Layer including regularizers)\n",
        "model.add(Dense(1,activation='sigmoid'))# A Dense Layer)\n",
        "# Pick an optimizer\n",
        "model.compile(loss='binary_crossentropy', optimizer='adam', metrics=['accuracy'])# Pick a loss function and an optimizer)\n",
        "print(model.summary())"
      ],
      "execution_count": 19,
      "outputs": [
        {
          "output_type": "stream",
          "text": [
            "Model: \"sequential\"\n",
            "_________________________________________________________________\n",
            "Layer (type)                 Output Shape              Param #   \n",
            "=================================================================\n",
            "embedding (Embedding)        (None, 544, 100)          4394100   \n",
            "_________________________________________________________________\n",
            "bidirectional (Bidirectional (None, 544, 300)          301200    \n",
            "_________________________________________________________________\n",
            "lstm_1 (LSTM)                (None, 100)               160400    \n",
            "_________________________________________________________________\n",
            "dense (Dense)                (None, 512)               51712     \n",
            "_________________________________________________________________\n",
            "dense_1 (Dense)              (None, 1)                 513       \n",
            "=================================================================\n",
            "Total params: 4,907,925\n",
            "Trainable params: 4,907,925\n",
            "Non-trainable params: 0\n",
            "_________________________________________________________________\n",
            "None\n"
          ],
          "name": "stdout"
        }
      ]
    },
    {
      "cell_type": "code",
      "metadata": {
        "id": "Da5PQFP4iiKV",
        "colab_type": "code",
        "colab": {}
      },
      "source": [
        "input_sequences = np.array(input_sequences,dtype='float64')\n",
        "labels = np.array(labels, dtype ='float64')"
      ],
      "execution_count": 0,
      "outputs": []
    },
    {
      "cell_type": "code",
      "metadata": {
        "id": "BroBNrYSilNx",
        "colab_type": "code",
        "colab": {}
      },
      "source": [
        "from sklearn.model_selection import train_test_split"
      ],
      "execution_count": 0,
      "outputs": []
    },
    {
      "cell_type": "code",
      "metadata": {
        "id": "Jgj_Xm3Aimgg",
        "colab_type": "code",
        "colab": {}
      },
      "source": [
        "X_train, X_test, y_train, y_test = train_test_split(input_sequences, labels, test_size=0.2, random_state=42)"
      ],
      "execution_count": 0,
      "outputs": []
    },
    {
      "cell_type": "code",
      "metadata": {
        "id": "CZ2u7vZjinfe",
        "colab_type": "code",
        "colab": {
          "base_uri": "https://localhost:8080/",
          "height": 384
        },
        "outputId": "eeed6fe9-2a21-4e4b-a572-510660c51f82"
      },
      "source": [
        "\n",
        "\n",
        "classifier_nn = model.fit(X_train,y_train,\n",
        "                    epochs=10,\n",
        "                    verbose=True,\n",
        "                    validation_data=(X_test, y_test),\n",
        "                    batch_size=64)\n"
      ],
      "execution_count": 23,
      "outputs": [
        {
          "output_type": "stream",
          "text": [
            "Epoch 1/10\n",
            "422/422 [==============================] - 69s 163ms/step - loss: 0.2088 - accuracy: 0.9772 - val_loss: 0.0128 - val_accuracy: 0.9990\n",
            "Epoch 2/10\n",
            "422/422 [==============================] - 68s 161ms/step - loss: 0.0087 - accuracy: 0.9993 - val_loss: 0.0071 - val_accuracy: 0.9987\n",
            "Epoch 3/10\n",
            "422/422 [==============================] - 68s 161ms/step - loss: 0.0043 - accuracy: 0.9998 - val_loss: 0.0049 - val_accuracy: 0.9990\n",
            "Epoch 4/10\n",
            "422/422 [==============================] - 68s 162ms/step - loss: 0.0138 - accuracy: 0.9989 - val_loss: 0.0100 - val_accuracy: 0.9988\n",
            "Epoch 5/10\n",
            "422/422 [==============================] - 68s 161ms/step - loss: 0.0041 - accuracy: 0.9996 - val_loss: 0.0048 - val_accuracy: 0.9993\n",
            "Epoch 6/10\n",
            "422/422 [==============================] - 68s 161ms/step - loss: 0.0019 - accuracy: 1.0000 - val_loss: 0.0037 - val_accuracy: 0.9996\n",
            "Epoch 7/10\n",
            "422/422 [==============================] - 68s 161ms/step - loss: 0.0017 - accuracy: 0.9999 - val_loss: 0.0033 - val_accuracy: 0.9994\n",
            "Epoch 8/10\n",
            "422/422 [==============================] - 69s 162ms/step - loss: 0.0011 - accuracy: 1.0000 - val_loss: 0.0032 - val_accuracy: 0.9994\n",
            "Epoch 9/10\n",
            "422/422 [==============================] - 69s 163ms/step - loss: 9.7150e-04 - accuracy: 1.0000 - val_loss: 0.0043 - val_accuracy: 0.9991\n",
            "Epoch 10/10\n",
            "422/422 [==============================] - 69s 163ms/step - loss: 9.1891e-04 - accuracy: 1.0000 - val_loss: 0.0042 - val_accuracy: 0.9996\n"
          ],
          "name": "stdout"
        }
      ]
    },
    {
      "cell_type": "code",
      "metadata": {
        "id": "fMlYq0BqipJ5",
        "colab_type": "code",
        "colab": {}
      },
      "source": [
        "pred=model.predict(X_test)"
      ],
      "execution_count": 0,
      "outputs": []
    },
    {
      "cell_type": "code",
      "metadata": {
        "id": "66JqQIMwiq5-",
        "colab_type": "code",
        "colab": {}
      },
      "source": [
        "for i in range(len(pred)):\n",
        "    if pred[i]>0.5:\n",
        "        pred[i]=1\n",
        "    elif pred[i]<=0.5:\n",
        "        pred[i]=0"
      ],
      "execution_count": 0,
      "outputs": []
    },
    {
      "cell_type": "code",
      "metadata": {
        "id": "hsgZlL2RirzJ",
        "colab_type": "code",
        "colab": {}
      },
      "source": [
        "from sklearn.metrics import accuracy_score"
      ],
      "execution_count": 0,
      "outputs": []
    },
    {
      "cell_type": "code",
      "metadata": {
        "id": "ZoimyGtyis93",
        "colab_type": "code",
        "colab": {
          "base_uri": "https://localhost:8080/",
          "height": 34
        },
        "outputId": "f568f6ca-195d-4b19-af00-4dc4943904ae"
      },
      "source": [
        "accuracy_score(y_test,pred)"
      ],
      "execution_count": 27,
      "outputs": [
        {
          "output_type": "execute_result",
          "data": {
            "text/plain": [
              "0.9995556872037915"
            ]
          },
          "metadata": {
            "tags": []
          },
          "execution_count": 27
        }
      ]
    },
    {
      "cell_type": "code",
      "metadata": {
        "id": "x8HWON1FiuFW",
        "colab_type": "code",
        "colab": {}
      },
      "source": [
        "def accuracy_function(tp,tn,fp,fn):\n",
        "    \n",
        "    accuracy = (tp+tn) / (tp+tn+fp+fn)\n",
        "    \n",
        "    return accuracy"
      ],
      "execution_count": 0,
      "outputs": []
    },
    {
      "cell_type": "code",
      "metadata": {
        "id": "a0SUlaauiwIv",
        "colab_type": "code",
        "colab": {}
      },
      "source": [
        "def precision_function(tp,fp):\n",
        "    \n",
        "    precision = tp / (tp+fp)\n",
        "    \n",
        "    return precision"
      ],
      "execution_count": 0,
      "outputs": []
    },
    {
      "cell_type": "code",
      "metadata": {
        "id": "0fsvykFoiw97",
        "colab_type": "code",
        "colab": {}
      },
      "source": [
        "def recall_function(tp,fn):\n",
        "    \n",
        "    recall=tp / (tp+fn)\n",
        "    \n",
        "    return recall\n"
      ],
      "execution_count": 0,
      "outputs": []
    },
    {
      "cell_type": "code",
      "metadata": {
        "id": "ce0IRxeGiyC4",
        "colab_type": "code",
        "colab": {}
      },
      "source": [
        "def confusion_matrix(truth,predicted):\n",
        "    \n",
        "    true_positive = 0\n",
        "    true_negative = 0\n",
        "    false_positive = 0\n",
        "    false_negative = 0\n",
        "    \n",
        "    for true,pred in zip(truth,predicted):\n",
        "        \n",
        "        if true == 1.0:\n",
        "            if pred == 1.0:\n",
        "                true_positive += 1\n",
        "            elif pred != 1.0:\n",
        "                false_negative += 1\n",
        "\n",
        "        elif true == 0.0:\n",
        "            if pred == 0.0:\n",
        "                true_negative += 1\n",
        "            elif pred != 0.0:\n",
        "                false_positive += 1\n",
        "       \n",
        "    accuracy=accuracy_function(true_positive, true_negative, false_positive, false_negative)\n",
        "    precision=precision_function(true_positive, false_positive)\n",
        "    recall=recall_function(true_positive, false_negative)\n",
        "    \n",
        "    return (accuracy,\n",
        "            precision,\n",
        "           recall)\n"
      ],
      "execution_count": 0,
      "outputs": []
    },
    {
      "cell_type": "code",
      "metadata": {
        "id": "ZBMIe8BTi4lH",
        "colab_type": "code",
        "colab": {}
      },
      "source": [
        "accuracy,precision,recall=confusion_matrix(y_test,pred)"
      ],
      "execution_count": 0,
      "outputs": []
    },
    {
      "cell_type": "code",
      "metadata": {
        "id": "aMhX0iHIjJaa",
        "colab_type": "code",
        "colab": {
          "base_uri": "https://localhost:8080/",
          "height": 86
        },
        "outputId": "dc859779-5bba-4b9d-9dcd-78044b816977"
      },
      "source": [
        "\n",
        "\n",
        "print(\" For Embedding \\n Accuracy : {0} \\n Precision : {1} \\n Recall : {2}\".format(accuracy, precision, recall))\n",
        "\n"
      ],
      "execution_count": 37,
      "outputs": [
        {
          "output_type": "stream",
          "text": [
            " For Embedding \n",
            " Accuracy : 0.9995556872037915 \n",
            " Precision : 0.9995615957913196 \n",
            " Recall : 0.9991235758106923\n"
          ],
          "name": "stdout"
        }
      ]
    },
    {
      "cell_type": "code",
      "metadata": {
        "id": "IgSAYZRnmQ-C",
        "colab_type": "code",
        "colab": {}
      },
      "source": [
        ""
      ],
      "execution_count": 0,
      "outputs": []
    }
  ]
}